{
 "cells": [
  {
   "cell_type": "code",
   "execution_count": 26,
   "metadata": {},
   "outputs": [
    {
     "data": {
      "text/plain": [
       "200"
      ]
     },
     "execution_count": 26,
     "metadata": {},
     "output_type": "execute_result"
    }
   ],
   "source": [
    "import requests\n",
    "import numpy as np\n",
    "import pandas as pd\n",
    "from matplotlib.pyplot import plot\n",
    "\n",
    "\n",
    "url = 'https://data.cms.gov/resource/97k6-zzx3?provider_state=WI' # IPPS Provider Summary for Top 100 DRG - FY2011\n",
    "\n",
    "r = requests.get(url)\n",
    "r.status_code"
   ]
  },
  {
   "cell_type": "code",
   "execution_count": 27,
   "metadata": {},
   "outputs": [
    {
     "data": {
      "text/plain": [
       "(1000, 12)"
      ]
     },
     "execution_count": 27,
     "metadata": {},
     "output_type": "execute_result"
    }
   ],
   "source": [
    "df = pd.DataFrame(r.json())\n",
    "df.shape"
   ]
  },
  {
   "cell_type": "code",
   "execution_count": 28,
   "metadata": {},
   "outputs": [
    {
     "data": {
      "text/html": [
       "<div>\n",
       "<style scoped>\n",
       "    .dataframe tbody tr th:only-of-type {\n",
       "        vertical-align: middle;\n",
       "    }\n",
       "\n",
       "    .dataframe tbody tr th {\n",
       "        vertical-align: top;\n",
       "    }\n",
       "\n",
       "    .dataframe thead th {\n",
       "        text-align: right;\n",
       "    }\n",
       "</style>\n",
       "<table border=\"1\" class=\"dataframe\">\n",
       "  <thead>\n",
       "    <tr style=\"text-align: right;\">\n",
       "      <th></th>\n",
       "      <th>drg_definition</th>\n",
       "      <th>provider_id</th>\n",
       "      <th>provider_name</th>\n",
       "      <th>provider_street_address</th>\n",
       "      <th>provider_city</th>\n",
       "      <th>provider_state</th>\n",
       "      <th>provider_zip_code</th>\n",
       "      <th>hospital_referral_region_description</th>\n",
       "      <th>total_discharges</th>\n",
       "      <th>average_covered_charges</th>\n",
       "      <th>average_medicare_payments</th>\n",
       "      <th>average_medicare_payments_2</th>\n",
       "    </tr>\n",
       "  </thead>\n",
       "  <tbody>\n",
       "    <tr>\n",
       "      <td>44</td>\n",
       "      <td>057 - DEGENERATIVE NERVOUS SYSTEM DISORDERS W/...</td>\n",
       "      <td>520177</td>\n",
       "      <td>FROEDTERT MEM LUTHERAN HSPTL</td>\n",
       "      <td>9200 W WISCONSIN AVE</td>\n",
       "      <td>MILWAUKEE</td>\n",
       "      <td>WI</td>\n",
       "      <td>53226</td>\n",
       "      <td>WI - Milwaukee</td>\n",
       "      <td>44</td>\n",
       "      <td>19783.38</td>\n",
       "      <td>8508.72</td>\n",
       "      <td>7596.90</td>\n",
       "    </tr>\n",
       "    <tr>\n",
       "      <td>70</td>\n",
       "      <td>064 - INTRACRANIAL HEMORRHAGE OR CEREBRAL INFA...</td>\n",
       "      <td>520177</td>\n",
       "      <td>FROEDTERT MEM LUTHERAN HSPTL</td>\n",
       "      <td>9200 W WISCONSIN AVE</td>\n",
       "      <td>MILWAUKEE</td>\n",
       "      <td>WI</td>\n",
       "      <td>53226</td>\n",
       "      <td>WI - Milwaukee</td>\n",
       "      <td>68</td>\n",
       "      <td>39871.10</td>\n",
       "      <td>17730.63</td>\n",
       "      <td>16616.30</td>\n",
       "    </tr>\n",
       "    <tr>\n",
       "      <td>118</td>\n",
       "      <td>065 - INTRACRANIAL HEMORRHAGE OR CEREBRAL INFA...</td>\n",
       "      <td>520177</td>\n",
       "      <td>FROEDTERT MEM LUTHERAN HSPTL</td>\n",
       "      <td>9200 W WISCONSIN AVE</td>\n",
       "      <td>MILWAUKEE</td>\n",
       "      <td>WI</td>\n",
       "      <td>53226</td>\n",
       "      <td>WI - Milwaukee</td>\n",
       "      <td>81</td>\n",
       "      <td>26639.24</td>\n",
       "      <td>10497.90</td>\n",
       "      <td>9389.24</td>\n",
       "    </tr>\n",
       "    <tr>\n",
       "      <td>152</td>\n",
       "      <td>066 - INTRACRANIAL HEMORRHAGE OR CEREBRAL INFA...</td>\n",
       "      <td>520177</td>\n",
       "      <td>FROEDTERT MEM LUTHERAN HSPTL</td>\n",
       "      <td>9200 W WISCONSIN AVE</td>\n",
       "      <td>MILWAUKEE</td>\n",
       "      <td>WI</td>\n",
       "      <td>53226</td>\n",
       "      <td>WI - Milwaukee</td>\n",
       "      <td>46</td>\n",
       "      <td>17199.69</td>\n",
       "      <td>7353.80</td>\n",
       "      <td>6351.80</td>\n",
       "    </tr>\n",
       "    <tr>\n",
       "      <td>179</td>\n",
       "      <td>069 - TRANSIENT ISCHEMIA</td>\n",
       "      <td>520177</td>\n",
       "      <td>FROEDTERT MEM LUTHERAN HSPTL</td>\n",
       "      <td>9200 W WISCONSIN AVE</td>\n",
       "      <td>MILWAUKEE</td>\n",
       "      <td>WI</td>\n",
       "      <td>53226</td>\n",
       "      <td>WI - Milwaukee</td>\n",
       "      <td>34</td>\n",
       "      <td>13175.11</td>\n",
       "      <td>6357.38</td>\n",
       "      <td>5387.29</td>\n",
       "    </tr>\n",
       "  </tbody>\n",
       "</table>\n",
       "</div>"
      ],
      "text/plain": [
       "                                        drg_definition provider_id  \\\n",
       "44   057 - DEGENERATIVE NERVOUS SYSTEM DISORDERS W/...      520177   \n",
       "70   064 - INTRACRANIAL HEMORRHAGE OR CEREBRAL INFA...      520177   \n",
       "118  065 - INTRACRANIAL HEMORRHAGE OR CEREBRAL INFA...      520177   \n",
       "152  066 - INTRACRANIAL HEMORRHAGE OR CEREBRAL INFA...      520177   \n",
       "179                           069 - TRANSIENT ISCHEMIA      520177   \n",
       "\n",
       "                    provider_name provider_street_address provider_city  \\\n",
       "44   FROEDTERT MEM LUTHERAN HSPTL    9200 W WISCONSIN AVE     MILWAUKEE   \n",
       "70   FROEDTERT MEM LUTHERAN HSPTL    9200 W WISCONSIN AVE     MILWAUKEE   \n",
       "118  FROEDTERT MEM LUTHERAN HSPTL    9200 W WISCONSIN AVE     MILWAUKEE   \n",
       "152  FROEDTERT MEM LUTHERAN HSPTL    9200 W WISCONSIN AVE     MILWAUKEE   \n",
       "179  FROEDTERT MEM LUTHERAN HSPTL    9200 W WISCONSIN AVE     MILWAUKEE   \n",
       "\n",
       "    provider_state provider_zip_code hospital_referral_region_description  \\\n",
       "44              WI             53226                       WI - Milwaukee   \n",
       "70              WI             53226                       WI - Milwaukee   \n",
       "118             WI             53226                       WI - Milwaukee   \n",
       "152             WI             53226                       WI - Milwaukee   \n",
       "179             WI             53226                       WI - Milwaukee   \n",
       "\n",
       "    total_discharges average_covered_charges average_medicare_payments  \\\n",
       "44                44                19783.38                   8508.72   \n",
       "70                68                39871.10                  17730.63   \n",
       "118               81                26639.24                  10497.90   \n",
       "152               46                17199.69                   7353.80   \n",
       "179               34                13175.11                   6357.38   \n",
       "\n",
       "    average_medicare_payments_2  \n",
       "44                      7596.90  \n",
       "70                     16616.30  \n",
       "118                     9389.24  \n",
       "152                     6351.80  \n",
       "179                     5387.29  "
      ]
     },
     "execution_count": 28,
     "metadata": {},
     "output_type": "execute_result"
    }
   ],
   "source": [
    "df.loc[df['provider_zip_code']=='53226'].head()"
   ]
  },
  {
   "cell_type": "code",
   "execution_count": null,
   "metadata": {},
   "outputs": [],
   "source": []
  }
 ],
 "metadata": {
  "kernelspec": {
   "display_name": "Python 3",
   "language": "python",
   "name": "python3"
  },
  "language_info": {
   "codemirror_mode": {
    "name": "ipython",
    "version": 3
   },
   "file_extension": ".py",
   "mimetype": "text/x-python",
   "name": "python",
   "nbconvert_exporter": "python",
   "pygments_lexer": "ipython3",
   "version": "3.7.4"
  }
 },
 "nbformat": 4,
 "nbformat_minor": 2
}
