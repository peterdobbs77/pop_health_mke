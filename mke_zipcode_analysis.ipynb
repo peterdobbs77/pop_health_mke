{
 "cells": [
  {
   "cell_type": "code",
   "execution_count": 8,
   "metadata": {},
   "outputs": [
    {
     "ename": "ModuleNotFoundError",
     "evalue": "No module named 'Polygon3'",
     "output_type": "error",
     "traceback": [
      "\u001b[1;31m---------------------------------------------------------------------------\u001b[0m",
      "\u001b[1;31mModuleNotFoundError\u001b[0m                       Traceback (most recent call last)",
      "\u001b[1;32m<ipython-input-8-d3e73022132c>\u001b[0m in \u001b[0;36m<module>\u001b[1;34m()\u001b[0m\n\u001b[0;32m      3\u001b[0m \u001b[1;32mimport\u001b[0m \u001b[0mpandas\u001b[0m \u001b[1;32mas\u001b[0m \u001b[0mpd\u001b[0m\u001b[1;33m\u001b[0m\u001b[0m\n\u001b[0;32m      4\u001b[0m \u001b[1;32mimport\u001b[0m \u001b[0mmatplotlib\u001b[0m\u001b[1;33m.\u001b[0m\u001b[0mpyplot\u001b[0m \u001b[1;32mas\u001b[0m \u001b[0mplt\u001b[0m\u001b[1;33m\u001b[0m\u001b[0m\n\u001b[1;32m----> 5\u001b[1;33m \u001b[1;32mimport\u001b[0m \u001b[0mPolygon3\u001b[0m\u001b[1;33m\u001b[0m\u001b[0m\n\u001b[0m\u001b[0;32m      6\u001b[0m \u001b[1;32mfrom\u001b[0m \u001b[0mdescartes\u001b[0m\u001b[1;33m.\u001b[0m\u001b[0mpatch\u001b[0m \u001b[1;32mimport\u001b[0m \u001b[0mPolygonPatch\u001b[0m\u001b[1;33m\u001b[0m\u001b[0m\n",
      "\u001b[1;31mModuleNotFoundError\u001b[0m: No module named 'Polygon3'"
     ]
    }
   ],
   "source": [
    "import shapefile\n",
    "import numpy as np\n",
    "import pandas as pd\n",
    "import matplotlib.pyplot as plt\n",
    "from shapely.geometry import Polygon\n",
    "from descartes.patch import PolygonPatch"
   ]
  },
  {
   "cell_type": "code",
   "execution_count": null,
   "metadata": {},
   "outputs": [],
   "source": [
    "# zipcode shape data from http://gis-mclio.opendata.arcgis.com/\n",
    "shp = shapefile.Reader(\"./shape/mke_zipcode/Zip_Code_Tabulation_Areas_ZCTA\")\n",
    "# EMS calls for service from MKE Open Data Portal\n",
    "ems = pd.read_csv('./data/mfdems.csv')"
   ]
  },
  {
   "cell_type": "code",
   "execution_count": null,
   "metadata": {},
   "outputs": [],
   "source": [
    "def plot_df_on_mke_zip_map(df):\n",
    "    fig = plt.figure(figsize=(12,10))\n",
    "    ax = plt.axes()\n",
    "    ax.set_aspect('equal')\n",
    "\n",
    "    # start bounds with MKE lat/long coordinates\n",
    "    [left, bottom, right, top] = [-87.9063889,43.0388889,-87.9063889,43.0388889]\n",
    "\n",
    "    for i, shape in enumerate(shp.shapes()):\n",
    "        # define polygon fill color (facecolor) RGB values:\n",
    "        R = df.pct[shape.record(i)[1]] / max(df.pct) # percentage value for alderman district\n",
    "        G = 0.1\n",
    "        B = 0.1\n",
    "        nparts = len(shape.parts) # total parts\n",
    "        if nparts == 1:\n",
    "            polygon = Polygon(shape.points)\n",
    "            patch = PolygonPatch(polygon, facecolor=[0,0,0.5], alpha=0.7, edgecolor=[0,0,0], zorder=2)\n",
    "            ax.add_patch(patch)\n",
    "        else: # loop over parts of each shape, plot separately\n",
    "            for ip in range(nparts): # loop over parts, plot separately\n",
    "                i0=shape.parts[ip]\n",
    "                if ip < nparts-1:\n",
    "                    i1 = shape.parts[ip+1]-1\n",
    "                else:\n",
    "                    i1 = len(shape.points)\n",
    "                polygon = Polygon(shape.points[i0:i1+1])\n",
    "                patch = PolygonPatch(polygon, facecolor=[0,0,0.5], alpha=0.7, zorder=2)\n",
    "                ax.add_patch(patch)\n",
    "        # bounds\n",
    "        l = shape.bbox[0]\n",
    "        if l < left: left = l\n",
    "        b = shape.bbox[1]\n",
    "        if b < bottom: bottom = b\n",
    "        r = shape.bbox[2]\n",
    "        if r > right: right = r\n",
    "        t = shape.bbox[3]\n",
    "        if t > top: top = t\n",
    "    # use bbox (bounding box) to set plot limits\n",
    "    plt.xlim(left,right)\n",
    "    plt.ylim(bottom,top)\n",
    "    plt.axis('off')\n",
    "    fig.savefig('./images/EMS - ' + df.columns[0] + ' - 2018_zipcode.png')"
   ]
  },
  {
   "cell_type": "code",
   "execution_count": null,
   "metadata": {},
   "outputs": [],
   "source": [
    "# MKE EMS calls - total\n",
    "total = ems[['ZIP Code','Final Call for Service Type']].groupby(['ZIP Code'], as_index=True).agg(['count'])['Final Call for Service Type']\n",
    "total.columns = ['Total']\n",
    "total['pct'] = total['Total'] / sum(total['Total'])\n",
    "plot_df_on_mke_zip_map(total)"
   ]
  },
  {
   "cell_type": "code",
   "execution_count": null,
   "metadata": {},
   "outputs": [],
   "source": []
  }
 ],
 "metadata": {
  "kernelspec": {
   "display_name": "Python 3",
   "language": "python",
   "name": "python3"
  },
  "language_info": {
   "codemirror_mode": {
    "name": "ipython",
    "version": 3
   },
   "file_extension": ".py",
   "mimetype": "text/x-python",
   "name": "python",
   "nbconvert_exporter": "python",
   "pygments_lexer": "ipython3",
   "version": "3.6.5"
  }
 },
 "nbformat": 4,
 "nbformat_minor": 2
}
