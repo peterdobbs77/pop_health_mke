{
 "cells": [
  {
   "cell_type": "code",
   "execution_count": 1,
   "metadata": {},
   "outputs": [],
   "source": [
    "import numpy as np\n",
    "import pandas as pd\n",
    "from pandas.io.json import json_normalize\n",
    "from matplotlib.pyplot import plot\n",
    "\n",
    "calls_service = pd.read_csv('mfdems.csv')\n",
    "liq_lic = pd.read_csv('liquorlicenses.csv')\n",
    "nat_irs_16 = pd.read_csv('16zpallagi.csv')"
   ]
  },
  {
   "cell_type": "code",
   "execution_count": 2,
   "metadata": {},
   "outputs": [],
   "source": [
    "mke_zip = [x for x in calls_service['ZIP Code'].unique().astype(int) if ~np.isnan(x)]\n",
    "mke_ald = [x for x in calls_service['Aldermanic District'].unique().astype(int) if ~np.isnan(x)]\n",
    "mke_irs_16 = nat_irs_16[nat_irs_16['zipcode'].isin(mke_zip)]"
   ]
  },
  {
   "cell_type": "code",
   "execution_count": 3,
   "metadata": {
    "scrolled": true
   },
   "outputs": [],
   "source": [
    "service_by_zip = calls_service[[\"ZIP Code\",\"Original Call for Service Type\"]].groupby(['ZIP Code'], as_index=True).agg(['count']).sort_values(by='ZIP Code', ascending=True)"
   ]
  },
  {
   "cell_type": "code",
   "execution_count": 4,
   "metadata": {
    "scrolled": true
   },
   "outputs": [],
   "source": [
    "df=calls_service\n",
    "df['Incident Date'] = pd.to_datetime(df['Incident Date'])\n",
    "df['Incident Date'] = df['Incident Date'].dt.strftime('%Y-%m')"
   ]
  },
  {
   "cell_type": "code",
   "execution_count": 5,
   "metadata": {},
   "outputs": [],
   "source": [
    "any_service_call = df[['Aldermanic District','Final Call for Service Type']].groupby(['Aldermanic District'], as_index=True).agg(['count'])['Final Call for Service Type']\n",
    "any_service_call.columns = ['# of Service Calls']"
   ]
  },
  {
   "cell_type": "code",
   "execution_count": 6,
   "metadata": {},
   "outputs": [],
   "source": [
    "cardiac = calls_service[calls_service['Final Call for Service Type']=='Cardiac or Respiratory Arrest/Death'].groupby(['Aldermanic District'], as_index=True).agg(['count'])['Final Call for Service Type']\n",
    "cardiac.columns = ['Incidents of Cardiac or Respiratory Arrest/Death']"
   ]
  },
  {
   "cell_type": "code",
   "execution_count": 7,
   "metadata": {},
   "outputs": [],
   "source": [
    "downgraded = calls_service[calls_service['Final Call for Service Type']=='Downgraded Response'].groupby(['Aldermanic District'], as_index=False).agg(['count'])['Final Call for Service Type']\n",
    "downgraded.columns = ['Incidents of Downgraded Response']"
   ]
  },
  {
   "cell_type": "code",
   "execution_count": 8,
   "metadata": {},
   "outputs": [],
   "source": [
    "liq_avail = liq_lic[['ALDERMANIC_DISTRICT','EXP_DATE']].groupby(['ALDERMANIC_DISTRICT'], as_index=True).agg(['count']).sort_values(by='ALDERMANIC_DISTRICT', ascending=True)\n",
    "liq_avail = liq_avail['EXP_DATE']\n",
    "liq_avail.columns=['# of Places with Liquor Licenses']\n",
    "#liq_avail.head()"
   ]
  },
  {
   "cell_type": "code",
   "execution_count": 16,
   "metadata": {},
   "outputs": [
    {
     "data": {
      "text/html": [
       "<div>\n",
       "<style scoped>\n",
       "    .dataframe tbody tr th:only-of-type {\n",
       "        vertical-align: middle;\n",
       "    }\n",
       "\n",
       "    .dataframe tbody tr th {\n",
       "        vertical-align: top;\n",
       "    }\n",
       "\n",
       "    .dataframe thead th {\n",
       "        text-align: right;\n",
       "    }\n",
       "</style>\n",
       "<table border=\"1\" class=\"dataframe\">\n",
       "  <thead>\n",
       "    <tr style=\"text-align: right;\">\n",
       "      <th></th>\n",
       "      <th># of Service Calls</th>\n",
       "      <th>Incidents of Cardiac or Respiratory Arrest/Death</th>\n",
       "      <th># of Places with Liquor Licenses</th>\n",
       "      <th>Incidents of Downgraded Response</th>\n",
       "    </tr>\n",
       "    <tr>\n",
       "      <th>Aldermanic District</th>\n",
       "      <th></th>\n",
       "      <th></th>\n",
       "      <th></th>\n",
       "      <th></th>\n",
       "    </tr>\n",
       "  </thead>\n",
       "  <tbody>\n",
       "    <tr>\n",
       "      <th>15.0</th>\n",
       "      <td>12867</td>\n",
       "      <td>96</td>\n",
       "      <td>58</td>\n",
       "      <td>362</td>\n",
       "    </tr>\n",
       "    <tr>\n",
       "      <th>6.0</th>\n",
       "      <td>11953</td>\n",
       "      <td>82</td>\n",
       "      <td>99</td>\n",
       "      <td>206</td>\n",
       "    </tr>\n",
       "    <tr>\n",
       "      <th>4.0</th>\n",
       "      <td>11200</td>\n",
       "      <td>86</td>\n",
       "      <td>269</td>\n",
       "      <td>301</td>\n",
       "    </tr>\n",
       "    <tr>\n",
       "      <th>1.0</th>\n",
       "      <td>10595</td>\n",
       "      <td>68</td>\n",
       "      <td>35</td>\n",
       "      <td>194</td>\n",
       "    </tr>\n",
       "    <tr>\n",
       "      <th>7.0</th>\n",
       "      <td>10492</td>\n",
       "      <td>81</td>\n",
       "      <td>30</td>\n",
       "      <td>263</td>\n",
       "    </tr>\n",
       "  </tbody>\n",
       "</table>\n",
       "</div>"
      ],
      "text/plain": [
       "                     # of Service Calls  \\\n",
       "Aldermanic District                       \n",
       "15.0                              12867   \n",
       "6.0                               11953   \n",
       "4.0                               11200   \n",
       "1.0                               10595   \n",
       "7.0                               10492   \n",
       "\n",
       "                     Incidents of Cardiac or Respiratory Arrest/Death  \\\n",
       "Aldermanic District                                                     \n",
       "15.0                                                               96   \n",
       "6.0                                                                82   \n",
       "4.0                                                                86   \n",
       "1.0                                                                68   \n",
       "7.0                                                                81   \n",
       "\n",
       "                     # of Places with Liquor Licenses  \\\n",
       "Aldermanic District                                     \n",
       "15.0                                               58   \n",
       "6.0                                                99   \n",
       "4.0                                               269   \n",
       "1.0                                                35   \n",
       "7.0                                                30   \n",
       "\n",
       "                     Incidents of Downgraded Response  \n",
       "Aldermanic District                                    \n",
       "15.0                                              362  \n",
       "6.0                                               206  \n",
       "4.0                                               301  \n",
       "1.0                                               194  \n",
       "7.0                                               263  "
      ]
     },
     "execution_count": 16,
     "metadata": {},
     "output_type": "execute_result"
    }
   ],
   "source": [
    "card_liq_down = cardiac.merge(liq_avail,left_index=True,right_index=True,how='left').merge(downgraded,left_index=True,right_index=True,how='left')\n",
    "all_stuff = any_service_call.merge(card_liq_down,left_index=True,right_index=True,how='left')\n",
    "all_stuff.sort_values(by='# of Service Calls', ascending=False).head()"
   ]
  },
  {
   "cell_type": "code",
   "execution_count": 10,
   "metadata": {
    "scrolled": true
   },
   "outputs": [
    {
     "data": {
      "text/html": [
       "<div>\n",
       "<style scoped>\n",
       "    .dataframe tbody tr th:only-of-type {\n",
       "        vertical-align: middle;\n",
       "    }\n",
       "\n",
       "    .dataframe tbody tr th {\n",
       "        vertical-align: top;\n",
       "    }\n",
       "\n",
       "    .dataframe thead th {\n",
       "        text-align: right;\n",
       "    }\n",
       "</style>\n",
       "<table border=\"1\" class=\"dataframe\">\n",
       "  <thead>\n",
       "    <tr style=\"text-align: right;\">\n",
       "      <th></th>\n",
       "      <th># of Service Calls</th>\n",
       "      <th>Incidents of Cardiac or Respiratory Arrest/Death</th>\n",
       "      <th># of Places with Liquor Licenses</th>\n",
       "      <th>Incidents of Downgraded Response</th>\n",
       "    </tr>\n",
       "    <tr>\n",
       "      <th>Aldermanic District</th>\n",
       "      <th></th>\n",
       "      <th></th>\n",
       "      <th></th>\n",
       "      <th></th>\n",
       "    </tr>\n",
       "  </thead>\n",
       "  <tbody>\n",
       "    <tr>\n",
       "      <th>9.0</th>\n",
       "      <td>8024</td>\n",
       "      <td>106</td>\n",
       "      <td>32</td>\n",
       "      <td>106</td>\n",
       "    </tr>\n",
       "    <tr>\n",
       "      <th>13.0</th>\n",
       "      <td>4718</td>\n",
       "      <td>97</td>\n",
       "      <td>91</td>\n",
       "      <td>92</td>\n",
       "    </tr>\n",
       "    <tr>\n",
       "      <th>15.0</th>\n",
       "      <td>12867</td>\n",
       "      <td>96</td>\n",
       "      <td>58</td>\n",
       "      <td>362</td>\n",
       "    </tr>\n",
       "    <tr>\n",
       "      <th>4.0</th>\n",
       "      <td>11200</td>\n",
       "      <td>86</td>\n",
       "      <td>269</td>\n",
       "      <td>301</td>\n",
       "    </tr>\n",
       "    <tr>\n",
       "      <th>6.0</th>\n",
       "      <td>11953</td>\n",
       "      <td>82</td>\n",
       "      <td>99</td>\n",
       "      <td>206</td>\n",
       "    </tr>\n",
       "  </tbody>\n",
       "</table>\n",
       "</div>"
      ],
      "text/plain": [
       "                     # of Service Calls  \\\n",
       "Aldermanic District                       \n",
       "9.0                                8024   \n",
       "13.0                               4718   \n",
       "15.0                              12867   \n",
       "4.0                               11200   \n",
       "6.0                               11953   \n",
       "\n",
       "                     Incidents of Cardiac or Respiratory Arrest/Death  \\\n",
       "Aldermanic District                                                     \n",
       "9.0                                                               106   \n",
       "13.0                                                               97   \n",
       "15.0                                                               96   \n",
       "4.0                                                                86   \n",
       "6.0                                                                82   \n",
       "\n",
       "                     # of Places with Liquor Licenses  \\\n",
       "Aldermanic District                                     \n",
       "9.0                                                32   \n",
       "13.0                                               91   \n",
       "15.0                                               58   \n",
       "4.0                                               269   \n",
       "6.0                                                99   \n",
       "\n",
       "                     Incidents of Downgraded Response  \n",
       "Aldermanic District                                    \n",
       "9.0                                               106  \n",
       "13.0                                               92  \n",
       "15.0                                              362  \n",
       "4.0                                               301  \n",
       "6.0                                               206  "
      ]
     },
     "execution_count": 10,
     "metadata": {},
     "output_type": "execute_result"
    }
   ],
   "source": [
    "all_stuff.sort_values(by='Incidents of Cardiac or Respiratory Arrest/Death',ascending=False).head()"
   ]
  },
  {
   "cell_type": "code",
   "execution_count": 11,
   "metadata": {},
   "outputs": [
    {
     "data": {
      "text/html": [
       "<div>\n",
       "<style scoped>\n",
       "    .dataframe tbody tr th:only-of-type {\n",
       "        vertical-align: middle;\n",
       "    }\n",
       "\n",
       "    .dataframe tbody tr th {\n",
       "        vertical-align: top;\n",
       "    }\n",
       "\n",
       "    .dataframe thead th {\n",
       "        text-align: right;\n",
       "    }\n",
       "</style>\n",
       "<table border=\"1\" class=\"dataframe\">\n",
       "  <thead>\n",
       "    <tr style=\"text-align: right;\">\n",
       "      <th></th>\n",
       "      <th># of Service Calls</th>\n",
       "      <th>Incidents of Cardiac or Respiratory Arrest/Death</th>\n",
       "      <th># of Places with Liquor Licenses</th>\n",
       "      <th>Incidents of Downgraded Response</th>\n",
       "    </tr>\n",
       "    <tr>\n",
       "      <th>Aldermanic District</th>\n",
       "      <th></th>\n",
       "      <th></th>\n",
       "      <th></th>\n",
       "      <th></th>\n",
       "    </tr>\n",
       "  </thead>\n",
       "  <tbody>\n",
       "    <tr>\n",
       "      <th>4.0</th>\n",
       "      <td>11200</td>\n",
       "      <td>86</td>\n",
       "      <td>269</td>\n",
       "      <td>301</td>\n",
       "    </tr>\n",
       "    <tr>\n",
       "      <th>3.0</th>\n",
       "      <td>3941</td>\n",
       "      <td>56</td>\n",
       "      <td>188</td>\n",
       "      <td>119</td>\n",
       "    </tr>\n",
       "    <tr>\n",
       "      <th>12.0</th>\n",
       "      <td>7033</td>\n",
       "      <td>81</td>\n",
       "      <td>188</td>\n",
       "      <td>206</td>\n",
       "    </tr>\n",
       "    <tr>\n",
       "      <th>14.0</th>\n",
       "      <td>3644</td>\n",
       "      <td>54</td>\n",
       "      <td>124</td>\n",
       "      <td>79</td>\n",
       "    </tr>\n",
       "    <tr>\n",
       "      <th>6.0</th>\n",
       "      <td>11953</td>\n",
       "      <td>82</td>\n",
       "      <td>99</td>\n",
       "      <td>206</td>\n",
       "    </tr>\n",
       "  </tbody>\n",
       "</table>\n",
       "</div>"
      ],
      "text/plain": [
       "                     # of Service Calls  \\\n",
       "Aldermanic District                       \n",
       "4.0                               11200   \n",
       "3.0                                3941   \n",
       "12.0                               7033   \n",
       "14.0                               3644   \n",
       "6.0                               11953   \n",
       "\n",
       "                     Incidents of Cardiac or Respiratory Arrest/Death  \\\n",
       "Aldermanic District                                                     \n",
       "4.0                                                                86   \n",
       "3.0                                                                56   \n",
       "12.0                                                               81   \n",
       "14.0                                                               54   \n",
       "6.0                                                                82   \n",
       "\n",
       "                     # of Places with Liquor Licenses  \\\n",
       "Aldermanic District                                     \n",
       "4.0                                               269   \n",
       "3.0                                               188   \n",
       "12.0                                              188   \n",
       "14.0                                              124   \n",
       "6.0                                                99   \n",
       "\n",
       "                     Incidents of Downgraded Response  \n",
       "Aldermanic District                                    \n",
       "4.0                                               301  \n",
       "3.0                                               119  \n",
       "12.0                                              206  \n",
       "14.0                                               79  \n",
       "6.0                                               206  "
      ]
     },
     "execution_count": 11,
     "metadata": {},
     "output_type": "execute_result"
    }
   ],
   "source": [
    "all_stuff.sort_values(by='# of Places with Liquor Licenses',ascending=False).head()"
   ]
  },
  {
   "cell_type": "code",
   "execution_count": 12,
   "metadata": {},
   "outputs": [
    {
     "data": {
      "text/html": [
       "<div>\n",
       "<style scoped>\n",
       "    .dataframe tbody tr th:only-of-type {\n",
       "        vertical-align: middle;\n",
       "    }\n",
       "\n",
       "    .dataframe tbody tr th {\n",
       "        vertical-align: top;\n",
       "    }\n",
       "\n",
       "    .dataframe thead th {\n",
       "        text-align: right;\n",
       "    }\n",
       "</style>\n",
       "<table border=\"1\" class=\"dataframe\">\n",
       "  <thead>\n",
       "    <tr style=\"text-align: right;\">\n",
       "      <th></th>\n",
       "      <th># of Service Calls</th>\n",
       "      <th>Incidents of Cardiac or Respiratory Arrest/Death</th>\n",
       "      <th># of Places with Liquor Licenses</th>\n",
       "      <th>Incidents of Downgraded Response</th>\n",
       "    </tr>\n",
       "    <tr>\n",
       "      <th>Aldermanic District</th>\n",
       "      <th></th>\n",
       "      <th></th>\n",
       "      <th></th>\n",
       "      <th></th>\n",
       "    </tr>\n",
       "  </thead>\n",
       "  <tbody>\n",
       "    <tr>\n",
       "      <th>15.0</th>\n",
       "      <td>12867</td>\n",
       "      <td>96</td>\n",
       "      <td>58</td>\n",
       "      <td>362</td>\n",
       "    </tr>\n",
       "    <tr>\n",
       "      <th>4.0</th>\n",
       "      <td>11200</td>\n",
       "      <td>86</td>\n",
       "      <td>269</td>\n",
       "      <td>301</td>\n",
       "    </tr>\n",
       "    <tr>\n",
       "      <th>7.0</th>\n",
       "      <td>10492</td>\n",
       "      <td>81</td>\n",
       "      <td>30</td>\n",
       "      <td>263</td>\n",
       "    </tr>\n",
       "    <tr>\n",
       "      <th>2.0</th>\n",
       "      <td>8807</td>\n",
       "      <td>77</td>\n",
       "      <td>22</td>\n",
       "      <td>248</td>\n",
       "    </tr>\n",
       "    <tr>\n",
       "      <th>6.0</th>\n",
       "      <td>11953</td>\n",
       "      <td>82</td>\n",
       "      <td>99</td>\n",
       "      <td>206</td>\n",
       "    </tr>\n",
       "  </tbody>\n",
       "</table>\n",
       "</div>"
      ],
      "text/plain": [
       "                     # of Service Calls  \\\n",
       "Aldermanic District                       \n",
       "15.0                              12867   \n",
       "4.0                               11200   \n",
       "7.0                               10492   \n",
       "2.0                                8807   \n",
       "6.0                               11953   \n",
       "\n",
       "                     Incidents of Cardiac or Respiratory Arrest/Death  \\\n",
       "Aldermanic District                                                     \n",
       "15.0                                                               96   \n",
       "4.0                                                                86   \n",
       "7.0                                                                81   \n",
       "2.0                                                                77   \n",
       "6.0                                                                82   \n",
       "\n",
       "                     # of Places with Liquor Licenses  \\\n",
       "Aldermanic District                                     \n",
       "15.0                                               58   \n",
       "4.0                                               269   \n",
       "7.0                                                30   \n",
       "2.0                                                22   \n",
       "6.0                                                99   \n",
       "\n",
       "                     Incidents of Downgraded Response  \n",
       "Aldermanic District                                    \n",
       "15.0                                              362  \n",
       "4.0                                               301  \n",
       "7.0                                               263  \n",
       "2.0                                               248  \n",
       "6.0                                               206  "
      ]
     },
     "execution_count": 12,
     "metadata": {},
     "output_type": "execute_result"
    }
   ],
   "source": [
    "all_stuff.sort_values(by='Incidents of Downgraded Response',ascending=False).head()"
   ]
  },
  {
   "cell_type": "code",
   "execution_count": 13,
   "metadata": {},
   "outputs": [],
   "source": [
    "## Notice that District 4 is in the top five of all three lists!\n",
    "## That's not a good thing"
   ]
  },
  {
   "cell_type": "code",
   "execution_count": 14,
   "metadata": {},
   "outputs": [
    {
     "data": {
      "text/plain": [
       "<matplotlib.axes._subplots.AxesSubplot at 0xcf1a5632e8>"
      ]
     },
     "execution_count": 14,
     "metadata": {},
     "output_type": "execute_result"
    },
    {
     "data": {
      "image/png": "[encoded data removed]",
      "text/plain": [
       "<Figure size 432x288 with 1 Axes>"
      ]
     },
     "metadata": {},
     "output_type": "display_data"
    }
   ],
   "source": [
    "card_liq_down.plot(x='# of Places with Liquor Licenses',y='Incidents of Cardiac or Respiratory Arrest/Death', style='o')"
   ]
  },
  {
   "cell_type": "code",
   "execution_count": 15,
   "metadata": {},
   "outputs": [
    {
     "data": {
      "text/plain": [
       "<matplotlib.axes._subplots.AxesSubplot at 0xcf1a804fd0>"
      ]
     },
     "execution_count": 15,
     "metadata": {},
     "output_type": "execute_result"
    },
    {
     "data": {
      "image/png": "[encoded data removed]",
      "text/plain": [
       "<Figure size 432x288 with 1 Axes>"
      ]
     },
     "metadata": {},
     "output_type": "display_data"
    }
   ],
   "source": [
    "card_liq_down.plot(x='# of Places with Liquor Licenses',y='Incidents of Downgraded Response', style='o')"
   ]
  },
  {
   "cell_type": "code",
   "execution_count": null,
   "metadata": {},
   "outputs": [],
   "source": []
  }
 ],
 "metadata": {
  "kernelspec": {
   "display_name": "Python 3",
   "language": "python",
   "name": "python3"
  },
  "language_info": {
   "codemirror_mode": {
    "name": "ipython",
    "version": 3
   },
   "file_extension": ".py",
   "mimetype": "text/x-python",
   "name": "python",
   "nbconvert_exporter": "python",
   "pygments_lexer": "ipython3",
   "version": "3.6.5"
  }
 },
 "nbformat": 4,
 "nbformat_minor": 2
}
