{
 "cells": [
  {
   "cell_type": "code",
   "execution_count": 42,
   "metadata": {},
   "outputs": [
    {
     "data": {
      "text/plain": [
       "200"
      ]
     },
     "execution_count": 42,
     "metadata": {},
     "output_type": "execute_result"
    }
   ],
   "source": [
    "import requests\n",
    "import numpy as np\n",
    "import pandas as pd\n",
    "from matplotlib.pyplot import plot\n",
    "\n",
    "\n",
    "url = 'https://data.cms.gov/resource/97k6-zzx3?provider_city=MILWAUKEE' # IPPS Provider Summary for Top 100 DRG - FY2011\n",
    "\n",
    "r = requests.get(url)\n",
    "r.status_code"
   ]
  },
  {
   "cell_type": "code",
   "execution_count": 58,
   "metadata": {},
   "outputs": [],
   "source": [
    "df = pd.DataFrame(r.json())\n",
    "stjoe = df.loc[df['provider_id']==\"520136\"]"
   ]
  },
  {
   "cell_type": "code",
   "execution_count": 60,
   "metadata": {},
   "outputs": [
    {
     "data": {
      "text/plain": [
       "drg_definition\n",
       "039 - EXTRACRANIAL PROCEDURES W/O CC/MCC                                       44\n",
       "057 - DEGENERATIVE NERVOUS SYSTEM DISORDERS W/O MCC                            44\n",
       "064 - INTRACRANIAL HEMORRHAGE OR CEREBRAL INFARCTION W MCC                     68\n",
       "065 - INTRACRANIAL HEMORRHAGE OR CEREBRAL INFARCTION W CC                      81\n",
       "066 - INTRACRANIAL HEMORRHAGE OR CEREBRAL INFARCTION W/O CC/MCC                47\n",
       "069 - TRANSIENT ISCHEMIA                                                       41\n",
       "074 - CRANIAL & PERIPHERAL NERVE DISORDERS W/O MCC                             40\n",
       "101 - SEIZURES W/O MCC                                                         84\n",
       "149 - DYSEQUILIBRIUM                                                           22\n",
       "176 - PULMONARY EMBOLISM W/O MCC                                               69\n",
       "177 - RESPIRATORY INFECTIONS & INFLAMMATIONS W MCC                             72\n",
       "178 - RESPIRATORY INFECTIONS & INFLAMMATIONS W CC                              65\n",
       "189 - PULMONARY EDEMA & RESPIRATORY FAILURE                                    89\n",
       "190 - CHRONIC OBSTRUCTIVE PULMONARY DISEASE W MCC                              39\n",
       "191 - CHRONIC OBSTRUCTIVE PULMONARY DISEASE W CC                               71\n",
       "192 - CHRONIC OBSTRUCTIVE PULMONARY DISEASE W/O CC/MCC                         59\n",
       "193 - SIMPLE PNEUMONIA & PLEURISY W MCC                                        52\n",
       "194 - SIMPLE PNEUMONIA & PLEURISY W CC                                         99\n",
       "195 - SIMPLE PNEUMONIA & PLEURISY W/O CC/MCC                                   64\n",
       "202 - BRONCHITIS & ASTHMA W CC/MCC                                             56\n",
       "203 - BRONCHITIS & ASTHMA W/O CC/MCC                                           14\n",
       "207 - RESPIRATORY SYSTEM DIAGNOSIS W VENTILATOR SUPPORT 96+ HOURS              55\n",
       "208 - RESPIRATORY SYSTEM DIAGNOSIS W VENTILATOR SUPPORT <96 HOURS              82\n",
       "238 - MAJOR CARDIOVASC PROCEDURES W/O MCC                                      85\n",
       "243 - PERMANENT CARDIAC PACEMAKER IMPLANT W CC                                 98\n",
       "244 - PERMANENT CARDIAC PACEMAKER IMPLANT W/O CC/MCC                           42\n",
       "246 - PERC CARDIOVASC PROC W DRUG-ELUTING STENT W MCC OR 4+ VESSELS/STENTS     91\n",
       "247 - PERC CARDIOVASC PROC W DRUG-ELUTING STENT W/O MCC                        76\n",
       "249 - PERC CARDIOVASC PROC W NON-DRUG-ELUTING STENT W/O MCC                    58\n",
       "251 - PERC CARDIOVASC PROC W/O CORONARY ARTERY STENT W/O MCC                   48\n",
       "252 - OTHER VASCULAR PROCEDURES W MCC                                          62\n",
       "253 - OTHER VASCULAR PROCEDURES W CC                                           99\n",
       "254 - OTHER VASCULAR PROCEDURES W/O CC/MCC                                     26\n",
       "280 - ACUTE MYOCARDIAL INFARCTION, DISCHARGED ALIVE W MCC                      79\n",
       "281 - ACUTE MYOCARDIAL INFARCTION, DISCHARGED ALIVE W CC                       76\n",
       "282 - ACUTE MYOCARDIAL INFARCTION, DISCHARGED ALIVE W/O CC/MCC                 19\n",
       "286 - CIRCULATORY DISORDERS EXCEPT AMI, W CARD CATH W MCC                      78\n",
       "287 - CIRCULATORY DISORDERS EXCEPT AMI, W CARD CATH W/O MCC                    67\n",
       "291 - HEART FAILURE & SHOCK W MCC                                              71\n",
       "292 - HEART FAILURE & SHOCK W CC                                               82\n",
       "293 - HEART FAILURE & SHOCK W/O CC/MCC                                         73\n",
       "300 - PERIPHERAL VASCULAR DISORDERS W CC                                       65\n",
       "301 - PERIPHERAL VASCULAR DISORDERS W/O CC/MCC                                 27\n",
       "303 - ATHEROSCLEROSIS W/O MCC                                                  14\n",
       "305 - HYPERTENSION W/O MCC                                                     19\n",
       "308 - CARDIAC ARRHYTHMIA & CONDUCTION DISORDERS W MCC                          77\n",
       "309 - CARDIAC ARRHYTHMIA & CONDUCTION DISORDERS W CC                           83\n",
       "310 - CARDIAC ARRHYTHMIA & CONDUCTION DISORDERS W/O CC/MCC                     88\n",
       "312 - SYNCOPE & COLLAPSE                                                       98\n",
       "313 - CHEST PAIN                                                               49\n",
       "314 - OTHER CIRCULATORY SYSTEM DIAGNOSES W MCC                                 93\n",
       "315 - OTHER CIRCULATORY SYSTEM DIAGNOSES W CC                                  47\n",
       "329 - MAJOR SMALL & LARGE BOWEL PROCEDURES W MCC                               59\n",
       "330 - MAJOR SMALL & LARGE BOWEL PROCEDURES W CC                                88\n",
       "372 - MAJOR GASTROINTESTINAL DISORDERS & PERITONEAL INFECTIONS W CC            68\n",
       "377 - G.I. HEMORRHAGE W MCC                                                    86\n",
       "378 - G.I. HEMORRHAGE W CC                                                     80\n",
       "379 - G.I. HEMORRHAGE W/O CC/MCC                                               30\n",
       "389 - G.I. OBSTRUCTION W CC                                                    81\n",
       "390 - G.I. OBSTRUCTION W/O CC/MCC                                              31\n",
       "391 - ESOPHAGITIS, GASTROENT & MISC DIGEST DISORDERS W MCC                     76\n",
       "392 - ESOPHAGITIS, GASTROENT & MISC DIGEST DISORDERS W/O MCC                   73\n",
       "394 - OTHER DIGESTIVE SYSTEM DIAGNOSES W CC                                    62\n",
       "418 - LAPAROSCOPIC CHOLECYSTECTOMY W/O C.D.E. W CC                             21\n",
       "439 - DISORDERS OF PANCREAS EXCEPT MALIGNANCY W CC                             32\n",
       "460 - SPINAL FUSION EXCEPT CERVICAL W/O MCC                                    43\n",
       "469 - MAJOR JOINT REPLACEMENT OR REATTACHMENT OF LOWER EXTREMITY W MCC         36\n",
       "470 - MAJOR JOINT REPLACEMENT OR REATTACHMENT OF LOWER EXTREMITY W/O MCC       83\n",
       "473 - CERVICAL SPINAL FUSION W/O CC/MCC                                        32\n",
       "480 - HIP & FEMUR PROCEDURES EXCEPT MAJOR JOINT W MCC                          28\n",
       "481 - HIP & FEMUR PROCEDURES EXCEPT MAJOR JOINT W CC                           84\n",
       "482 - HIP & FEMUR PROCEDURES EXCEPT MAJOR JOINT W/O CC/MCC                     16\n",
       "491 - BACK & NECK PROC EXC SPINAL FUSION W/O CC/MCC                            62\n",
       "536 - FRACTURES OF HIP & PELVIS W/O MCC                                        32\n",
       "552 - MEDICAL BACK PROBLEMS W/O MCC                                            49\n",
       "563 - FX, SPRN, STRN & DISL EXCEPT FEMUR, HIP, PELVIS & THIGH W/O MCC          34\n",
       "602 - CELLULITIS W MCC                                                         35\n",
       "603 - CELLULITIS W/O MCC                                                       91\n",
       "638 - DIABETES W CC                                                            92\n",
       "640 - MISC DISORDERS OF NUTRITION,METABOLISM,FLUIDS/ELECTROLYTES W MCC         91\n",
       "641 - MISC DISORDERS OF NUTRITION,METABOLISM,FLUIDS/ELECTROLYTES W/O MCC       47\n",
       "682 - RENAL FAILURE W MCC                                                      57\n",
       "683 - RENAL FAILURE W CC                                                       68\n",
       "684 - RENAL FAILURE W/O CC/MCC                                                 17\n",
       "689 - KIDNEY & URINARY TRACT INFECTIONS W MCC                                  79\n",
       "690 - KIDNEY & URINARY TRACT INFECTIONS W/O MCC                                74\n",
       "698 - OTHER KIDNEY & URINARY TRACT DIAGNOSES W MCC                             82\n",
       "699 - OTHER KIDNEY & URINARY TRACT DIAGNOSES W CC                              90\n",
       "811 - RED BLOOD CELL DISORDERS W MCC                                           44\n",
       "812 - RED BLOOD CELL DISORDERS W/O MCC                                         39\n",
       "853 - INFECTIOUS & PARASITIC DISEASES W O.R. PROCEDURE W MCC                   99\n",
       "870 - SEPTICEMIA OR SEVERE SEPSIS W MV 96+ HOURS                               44\n",
       "871 - SEPTICEMIA OR SEVERE SEPSIS W/O MV 96+ HOURS W MCC                      404\n",
       "872 - SEPTICEMIA OR SEVERE SEPSIS W/O MV 96+ HOURS W/O MCC                     46\n",
       "885 - PSYCHOSES                                                               210\n",
       "897 - ALCOHOL/DRUG ABUSE OR DEPENDENCE W/O REHABILITATION THERAPY W/O MCC      80\n",
       "917 - POISONING & TOXIC EFFECTS OF DRUGS W MCC                                 26\n",
       "918 - POISONING & TOXIC EFFECTS OF DRUGS W/O MCC                               39\n",
       "948 - SIGNS & SYMPTOMS W/O MCC                                                 73\n",
       "Name: total_discharges, dtype: object"
      ]
     },
     "metadata": {},
     "output_type": "display_data"
    }
   ],
   "source": [
    "with pd.option_context('display.max_rows', None, 'display.max_columns', None):\n",
    "    display(df.groupby([\"drg_definition\"])[\"total_discharges\"].max())"
   ]
  },
  {
   "cell_type": "code",
   "execution_count": null,
   "metadata": {},
   "outputs": [],
   "source": []
  }
 ],
 "metadata": {
  "kernelspec": {
   "display_name": "Python 3",
   "language": "python",
   "name": "python3"
  },
  "language_info": {
   "codemirror_mode": {
    "name": "ipython",
    "version": 3
   },
   "file_extension": ".py",
   "mimetype": "text/x-python",
   "name": "python",
   "nbconvert_exporter": "python",
   "pygments_lexer": "ipython3",
   "version": "3.7.4"
  }
 },
 "nbformat": 4,
 "nbformat_minor": 2
}
