{
 "cells": [
  {
   "cell_type": "code",
   "execution_count": 1,
   "metadata": {},
   "outputs": [
    {
     "data": {
      "text/html": [
       "<div class=\"item_container\" style=\"height: auto; overflow: hidden; border: 1px solid #cfcfcf; border-radius: 2px; background: #f6fafa; line-height: 1.21429em; padding: 10px;\">\n",
       "                    <div class=\"item_left\" style=\"width: 210px; float: left;\">\n",
       "                       <a href='https://python.playground.esri.com/portal/home/item.html?id=221daf3724a849c597fa05c3564279d2' target='_blank'>\n",
       "                        <img src='data:image/png;base64,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' width='200' height='133' class=\"itemThumbnail\">\n",
       "                       </a>\n",
       "                    </div>\n",
       "\n",
       "                    <div class=\"item_right\"     style=\"float: none; width: auto; overflow: hidden;\">\n",
       "                        <a href='https://python.playground.esri.com/portal/home/item.html?id=221daf3724a849c597fa05c3564279d2' target='_blank'><b>Western Pacific Typhoons (2005)</b>\n",
       "                        </a>\n",
       "                        <br/><img src='https://python.playground.esri.com/portal/home/js/jsapi/esri/css/images/item_type_icons/websceneglobal16.png' style=\"vertical-align:middle;\">Web Scene by arcgis_python\n",
       "                        <br/>Last Modified: February 23, 2018\n",
       "                        <br/>0 comments, 11 views\n",
       "                    </div>\n",
       "                </div>\n",
       "                "
      ],
      "text/plain": [
       "<Item title:\"Western Pacific Typhoons (2005)\" type:Web Scene owner:arcgis_python>"
      ]
     },
     "execution_count": 1,
     "metadata": {},
     "output_type": "execute_result"
    }
   ],
   "source": [
    "import arcgis\n",
    "from arcgis.gis import GIS\n",
    "from IPython.display import display\n",
    "from arcgis import features\n",
    "from getpass import getpass\n",
    "import pandas as pd\n",
    "\n",
    "gis = GIS(\"https://python.playground.esri.com/portal\", \"arcgis_python\", \"amazing_arcgis_123\")\n",
    "\n",
    "search_result = gis.content.search('title:Western Pacific Typhoons (2005)', item_type = 'Web Scene', outside_org=True)\n",
    "search_result[0]"
   ]
  },
  {
   "cell_type": "code",
   "execution_count": 3,
   "metadata": {},
   "outputs": [
    {
     "data": {
      "application/vnd.jupyter.widget-view+json": {
       "model_id": "4fc43429417745289b7184536d681713",
       "version_major": 2,
       "version_minor": 0
      },
      "text/plain": [
       "MapView(hide_mode_switch=True, layout=Layout(height='400px', width='100%'), mode='3D')"
      ]
     },
     "metadata": {},
     "output_type": "display_data"
    }
   ],
   "source": [
    "web_scene_item = search_result[0]\n",
    "web_scene_obj = arcgis.mapping.WebScene(web_scene_item)\n",
    "\n",
    "# display web scene in the notebook\n",
    "web_scene_obj"
   ]
  },
  {
   "cell_type": "code",
   "execution_count": null,
   "metadata": {},
   "outputs": [],
   "source": [
    "import fiona\n"
   ]
  },
  {
   "cell_type": "code",
   "execution_count": null,
   "metadata": {},
   "outputs": [],
   "source": []
  }
 ],
 "metadata": {
  "kernelspec": {
   "display_name": "Python 3",
   "language": "python",
   "name": "python3"
  },
  "language_info": {
   "codemirror_mode": {
    "name": "ipython",
    "version": 3
   },
   "file_extension": ".py",
   "mimetype": "text/x-python",
   "name": "python",
   "nbconvert_exporter": "python",
   "pygments_lexer": "ipython3",
   "version": "3.6.5"
  }
 },
 "nbformat": 4,
 "nbformat_minor": 2
}
