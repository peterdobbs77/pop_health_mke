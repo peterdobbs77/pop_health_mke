{
 "cells": [
  {
   "cell_type": "code",
   "execution_count": 1,
   "metadata": {},
   "outputs": [
    {
     "data": {
      "application/vnd.jupyter.widget-view+json": {
       "model_id": "710851146ffc4f75b451c062d417d0d6",
       "version_major": 2,
       "version_minor": 0
      },
      "text/plain": [
       "MapView(layout=Layout(height='400px', width='100%'))"
      ]
     },
     "metadata": {},
     "output_type": "display_data"
    }
   ],
   "source": [
    "import arcgis\n",
    "from arcgis.gis import GIS\n",
    "from IPython.display import display\n",
    "from arcgis import features\n",
    "\n",
    "#gis = GIS(\"http://maps2.milwaukee.gov/arcgis\")\n",
    "gis = GIS()\n",
    "map1 = gis.map(\"Milwaukee, WI\")\n",
    "map1"
   ]
  },
  {
   "cell_type": "code",
   "execution_count": 14,
   "metadata": {},
   "outputs": [
    {
     "data": {
      "text/html": [
       "<div>\n",
       "<style scoped>\n",
       "    .dataframe tbody tr th:only-of-type {\n",
       "        vertical-align: middle;\n",
       "    }\n",
       "\n",
       "    .dataframe tbody tr th {\n",
       "        vertical-align: top;\n",
       "    }\n",
       "\n",
       "    .dataframe thead th {\n",
       "        text-align: right;\n",
       "    }\n",
       "</style>\n",
       "<table border=\"1\" class=\"dataframe\">\n",
       "  <thead>\n",
       "    <tr style=\"text-align: right;\">\n",
       "      <th></th>\n",
       "      <th>index</th>\n",
       "      <th>AREA</th>\n",
       "      <th>NBHDTEXT_</th>\n",
       "      <th>NBHDTEXT_I</th>\n",
       "      <th>NEIGHBORHD</th>\n",
       "      <th>PERIMETER</th>\n",
       "      <th>SHAPE</th>\n",
       "      <th>SYMBOL</th>\n",
       "    </tr>\n",
       "  </thead>\n",
       "  <tbody>\n",
       "    <tr>\n",
       "      <th>185</th>\n",
       "      <td>185</td>\n",
       "      <td>9.917912e+06</td>\n",
       "      <td>191</td>\n",
       "      <td>191</td>\n",
       "      <td>COPERNICUS PARK</td>\n",
       "      <td>12797.372299</td>\n",
       "      <td>{\"rings\": [[[2552873.291, 351181.871], [255291...</td>\n",
       "      <td>3</td>\n",
       "    </tr>\n",
       "    <tr>\n",
       "      <th>186</th>\n",
       "      <td>186</td>\n",
       "      <td>9.392711e+06</td>\n",
       "      <td>40</td>\n",
       "      <td>40</td>\n",
       "      <td>GRA-RAM</td>\n",
       "      <td>14885.305035</td>\n",
       "      <td>{\"rings\": [[[2549139.582, 348476.207], [254517...</td>\n",
       "      <td>2</td>\n",
       "    </tr>\n",
       "    <tr>\n",
       "      <th>187</th>\n",
       "      <td>187</td>\n",
       "      <td>9.995182e+06</td>\n",
       "      <td>192</td>\n",
       "      <td>192</td>\n",
       "      <td>GOLDMAN PARK</td>\n",
       "      <td>12846.963172</td>\n",
       "      <td>{\"rings\": [[[2552913.4829899142, 348546.765548...</td>\n",
       "      <td>1</td>\n",
       "    </tr>\n",
       "    <tr>\n",
       "      <th>188</th>\n",
       "      <td>188</td>\n",
       "      <td>5.773822e+06</td>\n",
       "      <td>3</td>\n",
       "      <td>3</td>\n",
       "      <td>NEW COELN</td>\n",
       "      <td>9634.187611</td>\n",
       "      <td>{\"rings\": [[[2559691.447, 346009.606], [255709...</td>\n",
       "      <td>1</td>\n",
       "    </tr>\n",
       "    <tr>\n",
       "      <th>189</th>\n",
       "      <td>189</td>\n",
       "      <td>9.102692e+06</td>\n",
       "      <td>194</td>\n",
       "      <td>194</td>\n",
       "      <td>COLLEGE HEIGHTS</td>\n",
       "      <td>12170.761456</td>\n",
       "      <td>{\"rings\": [[[2552953.8959020413, 345897.411899...</td>\n",
       "      <td>3</td>\n",
       "    </tr>\n",
       "  </tbody>\n",
       "</table>\n",
       "</div>"
      ],
      "text/plain": [
       "     index          AREA  NBHDTEXT_  NBHDTEXT_I       NEIGHBORHD  \\\n",
       "185    185  9.917912e+06        191         191  COPERNICUS PARK   \n",
       "186    186  9.392711e+06         40          40          GRA-RAM   \n",
       "187    187  9.995182e+06        192         192     GOLDMAN PARK   \n",
       "188    188  5.773822e+06          3           3        NEW COELN   \n",
       "189    189  9.102692e+06        194         194  COLLEGE HEIGHTS   \n",
       "\n",
       "        PERIMETER                                              SHAPE  SYMBOL  \n",
       "185  12797.372299  {\"rings\": [[[2552873.291, 351181.871], [255291...       3  \n",
       "186  14885.305035  {\"rings\": [[[2549139.582, 348476.207], [254517...       2  \n",
       "187  12846.963172  {\"rings\": [[[2552913.4829899142, 348546.765548...       1  \n",
       "188   9634.187611  {\"rings\": [[[2559691.447, 346009.606], [255709...       1  \n",
       "189  12170.761456  {\"rings\": [[[2552953.8959020413, 345897.411899...       3  "
      ]
     },
     "execution_count": 14,
     "metadata": {},
     "output_type": "execute_result"
    }
   ],
   "source": [
    "#import sys\n",
    "#!{sys.executable} -m pip install pyshp\n",
    "import shapefile\n",
    "import pandas as pd\n",
    "import matplotlib.pyplot as plt\n",
    "\n",
    "sdf = pd.DataFrame.spatial.from_featureclass(\"shape/neighborhood.shp\")\n",
    "sdf.tail()"
   ]
  },
  {
   "cell_type": "code",
   "execution_count": null,
   "metadata": {},
   "outputs": [],
   "source": [
    "sf = shapefile.Reader(\"shape/neighborhood.shp\")\n",
    "sf.tail()\n",
    "fig = plt.figure()\n",
    "ax = fig.add_subplot(111)\n",
    "plt.xlim([0,100])\n",
    "plt.ylim([0,100])\n",
    "\n",
    "for shape in sf.shapes():\n",
    "    points = shape.points\n",
    "    ap = plt.Polygon(points, fill=False, edgecolor=\"k\")\n",
    "    ax.add_patch(ap)\n",
    "    \n",
    "plt.show()"
   ]
  },
  {
   "cell_type": "code",
   "execution_count": null,
   "metadata": {},
   "outputs": [
    {
     "name": "stdout",
     "output_type": "stream",
     "text": [
      "Requirement already up-to-date: setuptools in c:\\users\\peter\\anaconda3\\lib\\site-packages (40.6.2)\n"
     ]
    }
   ],
   "source": [
    "import sys\n",
    "#!{sys.executable} -m pip install --upgrade setuptools\n",
    "!{sys.executable} -m pip install GDAL\n",
    "!{sys.executable} -m pip install fiona --user\n",
    "import matplotlib.pyplot as plt\n",
    "from matplotlib.collections import PatchCollection\n",
    "from descartes import PolygonPatch\n",
    "import fiona\n",
    "from shapely.geometry import Polygon, MuliPolygon, shape\n",
    "\n",
    "mp = MultiPolygon([shape(pol['geometry']) for pol in fiona.open('shape/neighborhood.shp')])\n",
    "\n",
    "cm = plt.get_cmap('RdBu')\n",
    "num_colours = len(mp)\n",
    "\n",
    "fig = plt.figure()\n",
    "ax = fig.add_subplot(111)\n",
    "minx, miny, maxx, maxy = mp.bounds\n",
    "w, h = maxx - minx, maxy - miny\n",
    "ax.set_xlim(minx-0.2*w, maxx+0.2*w)\n",
    "ax.set_ylim(miny-0.2*h, maxy+0.2*h)\n",
    "ax.set_aspect(1)\n",
    "\n",
    "patches=[]\n",
    "for idx, p in enumerate(mp):\n",
    "    colour = cm(1. * idx / num_colours)\n",
    "    patches.append(PolygonPath(p,fc=colour,ec='#555555',alpha=1.,zorder=1))\n",
    "ax.add_collection(PatchCollection(patches,match_original=True))\n",
    "ax.set_xticks([])\n",
    "ax.set_yticks([])\n",
    "#name plot\n",
    "#save plot\n",
    "plt.show()"
   ]
  },
  {
   "cell_type": "code",
   "execution_count": null,
   "metadata": {},
   "outputs": [],
   "source": []
  }
 ],
 "metadata": {
  "kernelspec": {
   "display_name": "Python 3",
   "language": "python",
   "name": "python3"
  },
  "language_info": {
   "codemirror_mode": {
    "name": "ipython",
    "version": 3
   },
   "file_extension": ".py",
   "mimetype": "text/x-python",
   "name": "python",
   "nbconvert_exporter": "python",
   "pygments_lexer": "ipython3",
   "version": "3.6.5"
  }
 },
 "nbformat": 4,
 "nbformat_minor": 2
}
